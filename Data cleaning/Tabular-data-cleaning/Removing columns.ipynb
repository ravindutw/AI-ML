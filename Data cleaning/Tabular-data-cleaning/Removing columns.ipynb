{
 "cells": [
  {
   "cell_type": "markdown",
   "id": "2fd388af-2018-47b0-bb72-f1939c01ed59",
   "metadata": {},
   "source": [
    "# Removing columns"
   ]
  },
  {
   "cell_type": "code",
   "execution_count": 1,
   "id": "a356fd24-a2f8-40e3-a94c-f2479c173818",
   "metadata": {},
   "outputs": [],
   "source": [
    "import pandas as pd\n",
    "import numpy as np"
   ]
  },
  {
   "cell_type": "code",
   "execution_count": 2,
   "id": "db590e72-3e8b-4ee4-8408-56ee7d98338d",
   "metadata": {},
   "outputs": [],
   "source": [
    "data = pd.read_csv(\"Data/encoded_data.csv\")"
   ]
  },
  {
   "cell_type": "code",
   "execution_count": 3,
   "id": "a26eafc7-ae56-4abe-9a75-d8853c1f7723",
   "metadata": {},
   "outputs": [],
   "source": [
    "data['Discipline'] = 1"
   ]
  },
  {
   "cell_type": "code",
   "execution_count": 4,
   "id": "cb32375c-c915-41ef-8c19-24a3295bb047",
   "metadata": {},
   "outputs": [
    {
     "data": {
      "text/html": [
       "<div>\n",
       "<style scoped>\n",
       "    .dataframe tbody tr th:only-of-type {\n",
       "        vertical-align: middle;\n",
       "    }\n",
       "\n",
       "    .dataframe tbody tr th {\n",
       "        vertical-align: top;\n",
       "    }\n",
       "\n",
       "    .dataframe thead th {\n",
       "        text-align: right;\n",
       "    }\n",
       "</style>\n",
       "<table border=\"1\" class=\"dataframe\">\n",
       "  <thead>\n",
       "    <tr style=\"text-align: right;\">\n",
       "      <th></th>\n",
       "      <th>Age</th>\n",
       "      <th>Lessons Completed</th>\n",
       "      <th>Quiz Score</th>\n",
       "      <th>Time Per Week</th>\n",
       "      <th>Result_encoded</th>\n",
       "      <th>Gender_Female</th>\n",
       "      <th>Gender_Male</th>\n",
       "      <th>Country_India</th>\n",
       "      <th>Country_Sri Lanka</th>\n",
       "      <th>Country_USA</th>\n",
       "      <th>Discipline</th>\n",
       "    </tr>\n",
       "  </thead>\n",
       "  <tbody>\n",
       "    <tr>\n",
       "      <th>0</th>\n",
       "      <td>20.0</td>\n",
       "      <td>25</td>\n",
       "      <td>78.5</td>\n",
       "      <td>10</td>\n",
       "      <td>1.0</td>\n",
       "      <td>0.0</td>\n",
       "      <td>1.0</td>\n",
       "      <td>1.0</td>\n",
       "      <td>0.0</td>\n",
       "      <td>0.0</td>\n",
       "      <td>1</td>\n",
       "    </tr>\n",
       "    <tr>\n",
       "      <th>1</th>\n",
       "      <td>22.0</td>\n",
       "      <td>30</td>\n",
       "      <td>82.0</td>\n",
       "      <td>12</td>\n",
       "      <td>1.0</td>\n",
       "      <td>1.0</td>\n",
       "      <td>0.0</td>\n",
       "      <td>0.0</td>\n",
       "      <td>0.0</td>\n",
       "      <td>1.0</td>\n",
       "      <td>1</td>\n",
       "    </tr>\n",
       "    <tr>\n",
       "      <th>2</th>\n",
       "      <td>19.0</td>\n",
       "      <td>18</td>\n",
       "      <td>45.0</td>\n",
       "      <td>8</td>\n",
       "      <td>0.0</td>\n",
       "      <td>0.0</td>\n",
       "      <td>1.0</td>\n",
       "      <td>0.0</td>\n",
       "      <td>1.0</td>\n",
       "      <td>0.0</td>\n",
       "      <td>1</td>\n",
       "    </tr>\n",
       "    <tr>\n",
       "      <th>3</th>\n",
       "      <td>21.0</td>\n",
       "      <td>28</td>\n",
       "      <td>88.0</td>\n",
       "      <td>9</td>\n",
       "      <td>1.0</td>\n",
       "      <td>1.0</td>\n",
       "      <td>0.0</td>\n",
       "      <td>1.0</td>\n",
       "      <td>0.0</td>\n",
       "      <td>0.0</td>\n",
       "      <td>1</td>\n",
       "    </tr>\n",
       "    <tr>\n",
       "      <th>4</th>\n",
       "      <td>18.0</td>\n",
       "      <td>15</td>\n",
       "      <td>35.0</td>\n",
       "      <td>5</td>\n",
       "      <td>0.0</td>\n",
       "      <td>1.0</td>\n",
       "      <td>0.0</td>\n",
       "      <td>0.0</td>\n",
       "      <td>0.0</td>\n",
       "      <td>1.0</td>\n",
       "      <td>1</td>\n",
       "    </tr>\n",
       "  </tbody>\n",
       "</table>\n",
       "</div>"
      ],
      "text/plain": [
       "    Age  Lessons Completed  Quiz Score  Time Per Week  Result_encoded  \\\n",
       "0  20.0                 25        78.5             10             1.0   \n",
       "1  22.0                 30        82.0             12             1.0   \n",
       "2  19.0                 18        45.0              8             0.0   \n",
       "3  21.0                 28        88.0              9             1.0   \n",
       "4  18.0                 15        35.0              5             0.0   \n",
       "\n",
       "   Gender_Female  Gender_Male  Country_India  Country_Sri Lanka  Country_USA  \\\n",
       "0            0.0          1.0            1.0                0.0          0.0   \n",
       "1            1.0          0.0            0.0                0.0          1.0   \n",
       "2            0.0          1.0            0.0                1.0          0.0   \n",
       "3            1.0          0.0            1.0                0.0          0.0   \n",
       "4            1.0          0.0            0.0                0.0          1.0   \n",
       "\n",
       "   Discipline  \n",
       "0           1  \n",
       "1           1  \n",
       "2           1  \n",
       "3           1  \n",
       "4           1  "
      ]
     },
     "execution_count": 4,
     "metadata": {},
     "output_type": "execute_result"
    }
   ],
   "source": [
    "data.head()"
   ]
  },
  {
   "cell_type": "markdown",
   "id": "05d77dc6-7d7e-4897-94a6-7b32be7004ae",
   "metadata": {},
   "source": [
    "## Removing columns with low variance"
   ]
  },
  {
   "cell_type": "code",
   "execution_count": 5,
   "id": "1e054aef-26f0-4148-b68d-ab96debe8b97",
   "metadata": {},
   "outputs": [],
   "source": [
    "from sklearn.feature_selection import VarianceThreshold"
   ]
  },
  {
   "cell_type": "code",
   "execution_count": 6,
   "id": "0a0bd854-80ab-457e-a331-4ae34f912d51",
   "metadata": {},
   "outputs": [],
   "source": [
    "transform = VarianceThreshold(threshold=0.0)"
   ]
  },
  {
   "cell_type": "code",
   "execution_count": 7,
   "id": "994482d0-0934-449d-b6c1-d0b2992ccf90",
   "metadata": {},
   "outputs": [],
   "source": [
    "df_dropped = transform.fit_transform(data)"
   ]
  },
  {
   "cell_type": "code",
   "execution_count": 8,
   "id": "57241cc9-6b10-4669-98e1-83d3434b0ab3",
   "metadata": {},
   "outputs": [],
   "source": [
    "rem_columns = data.columns[transform.get_support(indices=True)]"
   ]
  },
  {
   "cell_type": "code",
   "execution_count": 9,
   "id": "87b62f67-03a6-4327-b4e8-a1981b09ef70",
   "metadata": {},
   "outputs": [],
   "source": [
    "df_dropped = pd.DataFrame(df_dropped, columns=rem_columns)"
   ]
  },
  {
   "cell_type": "code",
   "execution_count": 10,
   "id": "64214820-c502-4119-ad45-24980eae412d",
   "metadata": {},
   "outputs": [
    {
     "data": {
      "text/html": [
       "<div>\n",
       "<style scoped>\n",
       "    .dataframe tbody tr th:only-of-type {\n",
       "        vertical-align: middle;\n",
       "    }\n",
       "\n",
       "    .dataframe tbody tr th {\n",
       "        vertical-align: top;\n",
       "    }\n",
       "\n",
       "    .dataframe thead th {\n",
       "        text-align: right;\n",
       "    }\n",
       "</style>\n",
       "<table border=\"1\" class=\"dataframe\">\n",
       "  <thead>\n",
       "    <tr style=\"text-align: right;\">\n",
       "      <th></th>\n",
       "      <th>Age</th>\n",
       "      <th>Lessons Completed</th>\n",
       "      <th>Quiz Score</th>\n",
       "      <th>Time Per Week</th>\n",
       "      <th>Result_encoded</th>\n",
       "      <th>Gender_Female</th>\n",
       "      <th>Gender_Male</th>\n",
       "      <th>Country_India</th>\n",
       "      <th>Country_Sri Lanka</th>\n",
       "      <th>Country_USA</th>\n",
       "    </tr>\n",
       "  </thead>\n",
       "  <tbody>\n",
       "    <tr>\n",
       "      <th>0</th>\n",
       "      <td>20.0</td>\n",
       "      <td>25.0</td>\n",
       "      <td>78.5</td>\n",
       "      <td>10.0</td>\n",
       "      <td>1.0</td>\n",
       "      <td>0.0</td>\n",
       "      <td>1.0</td>\n",
       "      <td>1.0</td>\n",
       "      <td>0.0</td>\n",
       "      <td>0.0</td>\n",
       "    </tr>\n",
       "    <tr>\n",
       "      <th>1</th>\n",
       "      <td>22.0</td>\n",
       "      <td>30.0</td>\n",
       "      <td>82.0</td>\n",
       "      <td>12.0</td>\n",
       "      <td>1.0</td>\n",
       "      <td>1.0</td>\n",
       "      <td>0.0</td>\n",
       "      <td>0.0</td>\n",
       "      <td>0.0</td>\n",
       "      <td>1.0</td>\n",
       "    </tr>\n",
       "    <tr>\n",
       "      <th>2</th>\n",
       "      <td>19.0</td>\n",
       "      <td>18.0</td>\n",
       "      <td>45.0</td>\n",
       "      <td>8.0</td>\n",
       "      <td>0.0</td>\n",
       "      <td>0.0</td>\n",
       "      <td>1.0</td>\n",
       "      <td>0.0</td>\n",
       "      <td>1.0</td>\n",
       "      <td>0.0</td>\n",
       "    </tr>\n",
       "    <tr>\n",
       "      <th>3</th>\n",
       "      <td>21.0</td>\n",
       "      <td>28.0</td>\n",
       "      <td>88.0</td>\n",
       "      <td>9.0</td>\n",
       "      <td>1.0</td>\n",
       "      <td>1.0</td>\n",
       "      <td>0.0</td>\n",
       "      <td>1.0</td>\n",
       "      <td>0.0</td>\n",
       "      <td>0.0</td>\n",
       "    </tr>\n",
       "    <tr>\n",
       "      <th>4</th>\n",
       "      <td>18.0</td>\n",
       "      <td>15.0</td>\n",
       "      <td>35.0</td>\n",
       "      <td>5.0</td>\n",
       "      <td>0.0</td>\n",
       "      <td>1.0</td>\n",
       "      <td>0.0</td>\n",
       "      <td>0.0</td>\n",
       "      <td>0.0</td>\n",
       "      <td>1.0</td>\n",
       "    </tr>\n",
       "  </tbody>\n",
       "</table>\n",
       "</div>"
      ],
      "text/plain": [
       "    Age  Lessons Completed  Quiz Score  Time Per Week  Result_encoded  \\\n",
       "0  20.0               25.0        78.5           10.0             1.0   \n",
       "1  22.0               30.0        82.0           12.0             1.0   \n",
       "2  19.0               18.0        45.0            8.0             0.0   \n",
       "3  21.0               28.0        88.0            9.0             1.0   \n",
       "4  18.0               15.0        35.0            5.0             0.0   \n",
       "\n",
       "   Gender_Female  Gender_Male  Country_India  Country_Sri Lanka  Country_USA  \n",
       "0            0.0          1.0            1.0                0.0          0.0  \n",
       "1            1.0          0.0            0.0                0.0          1.0  \n",
       "2            0.0          1.0            0.0                1.0          0.0  \n",
       "3            1.0          0.0            1.0                0.0          0.0  \n",
       "4            1.0          0.0            0.0                0.0          1.0  "
      ]
     },
     "execution_count": 10,
     "metadata": {},
     "output_type": "execute_result"
    }
   ],
   "source": [
    "df_dropped.head()"
   ]
  },
  {
   "cell_type": "code",
   "execution_count": null,
   "id": "76003496-b02b-4fa6-9d19-1c8e5d6ec143",
   "metadata": {},
   "outputs": [],
   "source": []
  }
 ],
 "metadata": {
  "kernelspec": {
   "display_name": "Python 3 (ipykernel)",
   "language": "python",
   "name": "python3"
  },
  "language_info": {
   "codemirror_mode": {
    "name": "ipython",
    "version": 3
   },
   "file_extension": ".py",
   "mimetype": "text/x-python",
   "name": "python",
   "nbconvert_exporter": "python",
   "pygments_lexer": "ipython3",
   "version": "3.11.2"
  }
 },
 "nbformat": 4,
 "nbformat_minor": 5
}
