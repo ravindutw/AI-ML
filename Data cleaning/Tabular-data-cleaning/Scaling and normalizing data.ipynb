{
 "cells": [
  {
   "cell_type": "markdown",
   "id": "532657dc-d068-4eb3-ac41-5078ecb35f2d",
   "metadata": {},
   "source": [
    "# Scaling and normalizing data"
   ]
  },
  {
   "cell_type": "code",
   "execution_count": 1,
   "id": "32a25311-461b-4676-b8ec-cd2268bfc984",
   "metadata": {},
   "outputs": [],
   "source": [
    "import pandas as pd\n",
    "import numpy as np\n",
    "from scipy import stats\n",
    "import seaborn as sns\n",
    "import matplotlib.pyplot as plt"
   ]
  },
  {
   "cell_type": "code",
   "execution_count": 2,
   "id": "f935a718-72c6-4466-b8f2-14d615243424",
   "metadata": {},
   "outputs": [],
   "source": [
    "data = pd.read_csv(\"Data/encoded_data.csv\")"
   ]
  },
  {
   "cell_type": "code",
   "execution_count": 3,
   "id": "d6492c71-7840-47ee-9631-d94bb5e5805b",
   "metadata": {},
   "outputs": [
    {
     "data": {
      "text/html": [
       "<div>\n",
       "<style scoped>\n",
       "    .dataframe tbody tr th:only-of-type {\n",
       "        vertical-align: middle;\n",
       "    }\n",
       "\n",
       "    .dataframe tbody tr th {\n",
       "        vertical-align: top;\n",
       "    }\n",
       "\n",
       "    .dataframe thead th {\n",
       "        text-align: right;\n",
       "    }\n",
       "</style>\n",
       "<table border=\"1\" class=\"dataframe\">\n",
       "  <thead>\n",
       "    <tr style=\"text-align: right;\">\n",
       "      <th></th>\n",
       "      <th>Age</th>\n",
       "      <th>Lessons Completed</th>\n",
       "      <th>Quiz Score</th>\n",
       "      <th>Time Per Week</th>\n",
       "      <th>Result_encoded</th>\n",
       "      <th>Gender_Female</th>\n",
       "      <th>Gender_Male</th>\n",
       "      <th>Country_India</th>\n",
       "      <th>Country_Sri Lanka</th>\n",
       "      <th>Country_USA</th>\n",
       "    </tr>\n",
       "  </thead>\n",
       "  <tbody>\n",
       "    <tr>\n",
       "      <th>0</th>\n",
       "      <td>20.0</td>\n",
       "      <td>25</td>\n",
       "      <td>78.5</td>\n",
       "      <td>10</td>\n",
       "      <td>1.0</td>\n",
       "      <td>0.0</td>\n",
       "      <td>1.0</td>\n",
       "      <td>1.0</td>\n",
       "      <td>0.0</td>\n",
       "      <td>0.0</td>\n",
       "    </tr>\n",
       "    <tr>\n",
       "      <th>1</th>\n",
       "      <td>22.0</td>\n",
       "      <td>30</td>\n",
       "      <td>82.0</td>\n",
       "      <td>12</td>\n",
       "      <td>1.0</td>\n",
       "      <td>1.0</td>\n",
       "      <td>0.0</td>\n",
       "      <td>0.0</td>\n",
       "      <td>0.0</td>\n",
       "      <td>1.0</td>\n",
       "    </tr>\n",
       "    <tr>\n",
       "      <th>2</th>\n",
       "      <td>19.0</td>\n",
       "      <td>18</td>\n",
       "      <td>45.0</td>\n",
       "      <td>8</td>\n",
       "      <td>0.0</td>\n",
       "      <td>0.0</td>\n",
       "      <td>1.0</td>\n",
       "      <td>0.0</td>\n",
       "      <td>1.0</td>\n",
       "      <td>0.0</td>\n",
       "    </tr>\n",
       "    <tr>\n",
       "      <th>3</th>\n",
       "      <td>21.0</td>\n",
       "      <td>28</td>\n",
       "      <td>88.0</td>\n",
       "      <td>9</td>\n",
       "      <td>1.0</td>\n",
       "      <td>1.0</td>\n",
       "      <td>0.0</td>\n",
       "      <td>1.0</td>\n",
       "      <td>0.0</td>\n",
       "      <td>0.0</td>\n",
       "    </tr>\n",
       "    <tr>\n",
       "      <th>4</th>\n",
       "      <td>18.0</td>\n",
       "      <td>15</td>\n",
       "      <td>35.0</td>\n",
       "      <td>5</td>\n",
       "      <td>0.0</td>\n",
       "      <td>1.0</td>\n",
       "      <td>0.0</td>\n",
       "      <td>0.0</td>\n",
       "      <td>0.0</td>\n",
       "      <td>1.0</td>\n",
       "    </tr>\n",
       "  </tbody>\n",
       "</table>\n",
       "</div>"
      ],
      "text/plain": [
       "    Age  Lessons Completed  Quiz Score  Time Per Week  Result_encoded  \\\n",
       "0  20.0                 25        78.5             10             1.0   \n",
       "1  22.0                 30        82.0             12             1.0   \n",
       "2  19.0                 18        45.0              8             0.0   \n",
       "3  21.0                 28        88.0              9             1.0   \n",
       "4  18.0                 15        35.0              5             0.0   \n",
       "\n",
       "   Gender_Female  Gender_Male  Country_India  Country_Sri Lanka  Country_USA  \n",
       "0            0.0          1.0            1.0                0.0          0.0  \n",
       "1            1.0          0.0            0.0                0.0          1.0  \n",
       "2            0.0          1.0            0.0                1.0          0.0  \n",
       "3            1.0          0.0            1.0                0.0          0.0  \n",
       "4            1.0          0.0            0.0                0.0          1.0  "
      ]
     },
     "execution_count": 3,
     "metadata": {},
     "output_type": "execute_result"
    }
   ],
   "source": [
    "data.head()"
   ]
  },
  {
   "cell_type": "code",
   "execution_count": 4,
   "id": "112f93cd-e31c-4bc7-a906-82c3e9affc2b",
   "metadata": {},
   "outputs": [
    {
     "data": {
      "text/plain": [
       "Index(['Age', 'Lessons Completed', 'Quiz Score', 'Time Per Week',\n",
       "       'Result_encoded', 'Gender_Female', 'Gender_Male', 'Country_India',\n",
       "       'Country_Sri Lanka', 'Country_USA'],\n",
       "      dtype='object')"
      ]
     },
     "execution_count": 4,
     "metadata": {},
     "output_type": "execute_result"
    }
   ],
   "source": [
    "data.columns"
   ]
  },
  {
   "cell_type": "code",
   "execution_count": 5,
   "id": "76a71aee-e08c-49f1-ba72-a22662ba3c83",
   "metadata": {},
   "outputs": [
    {
     "data": {
      "text/plain": [
       "Age                  float64\n",
       "Lessons Completed      int64\n",
       "Quiz Score           float64\n",
       "Time Per Week          int64\n",
       "Result_encoded       float64\n",
       "Gender_Female        float64\n",
       "Gender_Male          float64\n",
       "Country_India        float64\n",
       "Country_Sri Lanka    float64\n",
       "Country_USA          float64\n",
       "dtype: object"
      ]
     },
     "execution_count": 5,
     "metadata": {},
     "output_type": "execute_result"
    }
   ],
   "source": [
    "data.dtypes"
   ]
  },
  {
   "cell_type": "markdown",
   "id": "28aa223c-7974-47e4-8937-ddfbcdcc9946",
   "metadata": {},
   "source": [
    "## Scaling"
   ]
  },
  {
   "cell_type": "markdown",
   "id": "01fed5e5-f816-4d9c-87f6-4f0dfbcdd3f6",
   "metadata": {},
   "source": [
    "### Min-max Scaling"
   ]
  },
  {
   "cell_type": "code",
   "execution_count": 6,
   "id": "22290ad5-5efe-4f88-8c4b-25e0df050ca2",
   "metadata": {},
   "outputs": [],
   "source": [
    "from sklearn.preprocessing import MinMaxScaler"
   ]
  },
  {
   "cell_type": "code",
   "execution_count": 7,
   "id": "49c1bd69-38f9-4954-a815-4d09075a788b",
   "metadata": {},
   "outputs": [],
   "source": [
    "scaler = MinMaxScaler(feature_range=(0, 1))"
   ]
  },
  {
   "cell_type": "code",
   "execution_count": 8,
   "id": "34f0022f-261e-4f97-b3b0-b96e1b469321",
   "metadata": {},
   "outputs": [],
   "source": [
    "columns_to_scale = ['Age', 'Lessons Completed', 'Quiz Score', 'Time Per Week']\n",
    "data[columns_to_scale] = scaler.fit_transform(data[columns_to_scale])"
   ]
  },
  {
   "cell_type": "code",
   "execution_count": 9,
   "id": "73a5c926-3854-46b0-bb6e-e72c6d2769ec",
   "metadata": {},
   "outputs": [
    {
     "data": {
      "text/html": [
       "<div>\n",
       "<style scoped>\n",
       "    .dataframe tbody tr th:only-of-type {\n",
       "        vertical-align: middle;\n",
       "    }\n",
       "\n",
       "    .dataframe tbody tr th {\n",
       "        vertical-align: top;\n",
       "    }\n",
       "\n",
       "    .dataframe thead th {\n",
       "        text-align: right;\n",
       "    }\n",
       "</style>\n",
       "<table border=\"1\" class=\"dataframe\">\n",
       "  <thead>\n",
       "    <tr style=\"text-align: right;\">\n",
       "      <th></th>\n",
       "      <th>Age</th>\n",
       "      <th>Lessons Completed</th>\n",
       "      <th>Quiz Score</th>\n",
       "      <th>Time Per Week</th>\n",
       "      <th>Result_encoded</th>\n",
       "      <th>Gender_Female</th>\n",
       "      <th>Gender_Male</th>\n",
       "      <th>Country_India</th>\n",
       "      <th>Country_Sri Lanka</th>\n",
       "      <th>Country_USA</th>\n",
       "    </tr>\n",
       "  </thead>\n",
       "  <tbody>\n",
       "    <tr>\n",
       "      <th>0</th>\n",
       "      <td>0.250</td>\n",
       "      <td>0.60</td>\n",
       "      <td>0.780000</td>\n",
       "      <td>0.583333</td>\n",
       "      <td>1.0</td>\n",
       "      <td>0.0</td>\n",
       "      <td>1.0</td>\n",
       "      <td>1.0</td>\n",
       "      <td>0.0</td>\n",
       "      <td>0.0</td>\n",
       "    </tr>\n",
       "    <tr>\n",
       "      <th>1</th>\n",
       "      <td>0.500</td>\n",
       "      <td>0.80</td>\n",
       "      <td>0.826667</td>\n",
       "      <td>0.750000</td>\n",
       "      <td>1.0</td>\n",
       "      <td>1.0</td>\n",
       "      <td>0.0</td>\n",
       "      <td>0.0</td>\n",
       "      <td>0.0</td>\n",
       "      <td>1.0</td>\n",
       "    </tr>\n",
       "    <tr>\n",
       "      <th>2</th>\n",
       "      <td>0.125</td>\n",
       "      <td>0.32</td>\n",
       "      <td>0.333333</td>\n",
       "      <td>0.416667</td>\n",
       "      <td>0.0</td>\n",
       "      <td>0.0</td>\n",
       "      <td>1.0</td>\n",
       "      <td>0.0</td>\n",
       "      <td>1.0</td>\n",
       "      <td>0.0</td>\n",
       "    </tr>\n",
       "    <tr>\n",
       "      <th>3</th>\n",
       "      <td>0.375</td>\n",
       "      <td>0.72</td>\n",
       "      <td>0.906667</td>\n",
       "      <td>0.500000</td>\n",
       "      <td>1.0</td>\n",
       "      <td>1.0</td>\n",
       "      <td>0.0</td>\n",
       "      <td>1.0</td>\n",
       "      <td>0.0</td>\n",
       "      <td>0.0</td>\n",
       "    </tr>\n",
       "    <tr>\n",
       "      <th>4</th>\n",
       "      <td>0.000</td>\n",
       "      <td>0.20</td>\n",
       "      <td>0.200000</td>\n",
       "      <td>0.166667</td>\n",
       "      <td>0.0</td>\n",
       "      <td>1.0</td>\n",
       "      <td>0.0</td>\n",
       "      <td>0.0</td>\n",
       "      <td>0.0</td>\n",
       "      <td>1.0</td>\n",
       "    </tr>\n",
       "  </tbody>\n",
       "</table>\n",
       "</div>"
      ],
      "text/plain": [
       "     Age  Lessons Completed  Quiz Score  Time Per Week  Result_encoded  \\\n",
       "0  0.250               0.60    0.780000       0.583333             1.0   \n",
       "1  0.500               0.80    0.826667       0.750000             1.0   \n",
       "2  0.125               0.32    0.333333       0.416667             0.0   \n",
       "3  0.375               0.72    0.906667       0.500000             1.0   \n",
       "4  0.000               0.20    0.200000       0.166667             0.0   \n",
       "\n",
       "   Gender_Female  Gender_Male  Country_India  Country_Sri Lanka  Country_USA  \n",
       "0            0.0          1.0            1.0                0.0          0.0  \n",
       "1            1.0          0.0            0.0                0.0          1.0  \n",
       "2            0.0          1.0            0.0                1.0          0.0  \n",
       "3            1.0          0.0            1.0                0.0          0.0  \n",
       "4            1.0          0.0            0.0                0.0          1.0  "
      ]
     },
     "execution_count": 9,
     "metadata": {},
     "output_type": "execute_result"
    }
   ],
   "source": [
    "data.head()"
   ]
  },
  {
   "cell_type": "code",
   "execution_count": null,
   "id": "70b43c7b-0b84-406e-b099-56b55bb47576",
   "metadata": {},
   "outputs": [],
   "source": []
  }
 ],
 "metadata": {
  "kernelspec": {
   "display_name": "Python 3 (ipykernel)",
   "language": "python",
   "name": "python3"
  },
  "language_info": {
   "codemirror_mode": {
    "name": "ipython",
    "version": 3
   },
   "file_extension": ".py",
   "mimetype": "text/x-python",
   "name": "python",
   "nbconvert_exporter": "python",
   "pygments_lexer": "ipython3",
   "version": "3.11.2"
  }
 },
 "nbformat": 4,
 "nbformat_minor": 5
}
