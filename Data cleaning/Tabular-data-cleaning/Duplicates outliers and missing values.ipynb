{
 "cells": [
  {
   "cell_type": "markdown",
   "id": "fabd16d7-3022-419b-96cc-2290cc3e5606",
   "metadata": {},
   "source": [
    "# Duplicates, outliers and missing values"
   ]
  },
  {
   "cell_type": "code",
   "execution_count": 1,
   "id": "5bd8bac1-f5ff-4269-9c09-ffce441d0989",
   "metadata": {},
   "outputs": [],
   "source": [
    "import pandas as pd\n",
    "import numpy as np\n",
    "import seaborn as sns\n",
    "import matplotlib.pyplot as plt"
   ]
  },
  {
   "cell_type": "code",
   "execution_count": 2,
   "id": "9dc0ea0d-9a08-4414-ab40-2b18f1ece4b2",
   "metadata": {},
   "outputs": [],
   "source": [
    "data = pd.read_csv(\"/notebooks/Datasets/Cleaning/data4.csv\")"
   ]
  },
  {
   "cell_type": "code",
   "execution_count": 3,
   "id": "087e00d6-456a-4388-a5ae-62130ce5d47c",
   "metadata": {},
   "outputs": [
    {
     "data": {
      "text/html": [
       "<div>\n",
       "<style scoped>\n",
       "    .dataframe tbody tr th:only-of-type {\n",
       "        vertical-align: middle;\n",
       "    }\n",
       "\n",
       "    .dataframe tbody tr th {\n",
       "        vertical-align: top;\n",
       "    }\n",
       "\n",
       "    .dataframe thead th {\n",
       "        text-align: right;\n",
       "    }\n",
       "</style>\n",
       "<table border=\"1\" class=\"dataframe\">\n",
       "  <thead>\n",
       "    <tr style=\"text-align: right;\">\n",
       "      <th></th>\n",
       "      <th>StudentID</th>\n",
       "      <th>Gender</th>\n",
       "      <th>Age</th>\n",
       "      <th>Country</th>\n",
       "      <th>Lessons Completed</th>\n",
       "      <th>Quiz Score</th>\n",
       "      <th>Time Per Week</th>\n",
       "      <th>Result</th>\n",
       "    </tr>\n",
       "  </thead>\n",
       "  <tbody>\n",
       "    <tr>\n",
       "      <th>0</th>\n",
       "      <td>S001</td>\n",
       "      <td>Male</td>\n",
       "      <td>20.0</td>\n",
       "      <td>India</td>\n",
       "      <td>25</td>\n",
       "      <td>78.5</td>\n",
       "      <td>10</td>\n",
       "      <td>Pass</td>\n",
       "    </tr>\n",
       "    <tr>\n",
       "      <th>1</th>\n",
       "      <td>S002</td>\n",
       "      <td>Female</td>\n",
       "      <td>22.0</td>\n",
       "      <td>USA</td>\n",
       "      <td>30</td>\n",
       "      <td>82.0</td>\n",
       "      <td>12</td>\n",
       "      <td>Pass</td>\n",
       "    </tr>\n",
       "    <tr>\n",
       "      <th>2</th>\n",
       "      <td>S003</td>\n",
       "      <td>Male</td>\n",
       "      <td>19.0</td>\n",
       "      <td>Sri Lanka</td>\n",
       "      <td>18</td>\n",
       "      <td>45.0</td>\n",
       "      <td>8</td>\n",
       "      <td>Fail</td>\n",
       "    </tr>\n",
       "    <tr>\n",
       "      <th>3</th>\n",
       "      <td>S004</td>\n",
       "      <td>Female</td>\n",
       "      <td>21.0</td>\n",
       "      <td>India</td>\n",
       "      <td>28</td>\n",
       "      <td>88.0</td>\n",
       "      <td>9</td>\n",
       "      <td>Pass</td>\n",
       "    </tr>\n",
       "    <tr>\n",
       "      <th>4</th>\n",
       "      <td>S005</td>\n",
       "      <td>Female</td>\n",
       "      <td>18.0</td>\n",
       "      <td>USA</td>\n",
       "      <td>15</td>\n",
       "      <td>35.0</td>\n",
       "      <td>5</td>\n",
       "      <td>Fail</td>\n",
       "    </tr>\n",
       "  </tbody>\n",
       "</table>\n",
       "</div>"
      ],
      "text/plain": [
       "  StudentID  Gender   Age    Country  Lessons Completed  Quiz Score  \\\n",
       "0      S001    Male  20.0      India                 25        78.5   \n",
       "1      S002  Female  22.0        USA                 30        82.0   \n",
       "2      S003    Male  19.0  Sri Lanka                 18        45.0   \n",
       "3      S004  Female  21.0      India                 28        88.0   \n",
       "4      S005  Female  18.0        USA                 15        35.0   \n",
       "\n",
       "   Time Per Week Result  \n",
       "0             10   Pass  \n",
       "1             12   Pass  \n",
       "2              8   Fail  \n",
       "3              9   Pass  \n",
       "4              5   Fail  "
      ]
     },
     "execution_count": 3,
     "metadata": {},
     "output_type": "execute_result"
    }
   ],
   "source": [
    "data.head()"
   ]
  },
  {
   "cell_type": "markdown",
   "id": "d9a88be3-57a8-4bd5-b6c2-63a597192271",
   "metadata": {},
   "source": [
    "## Duplicate rows"
   ]
  },
  {
   "cell_type": "code",
   "execution_count": 4,
   "id": "8115df13-fe1a-4e38-8883-4d9375040b5d",
   "metadata": {},
   "outputs": [
    {
     "data": {
      "text/plain": [
       "0     False\n",
       "1     False\n",
       "2     False\n",
       "3     False\n",
       "4     False\n",
       "5     False\n",
       "6     False\n",
       "7     False\n",
       "8     False\n",
       "9     False\n",
       "10    False\n",
       "11    False\n",
       "12    False\n",
       "13    False\n",
       "14    False\n",
       "15    False\n",
       "16    False\n",
       "17    False\n",
       "18    False\n",
       "19    False\n",
       "20     True\n",
       "21     True\n",
       "22     True\n",
       "23    False\n",
       "24    False\n",
       "dtype: bool"
      ]
     },
     "execution_count": 4,
     "metadata": {},
     "output_type": "execute_result"
    }
   ],
   "source": [
    "data.duplicated()"
   ]
  },
  {
   "cell_type": "code",
   "execution_count": 5,
   "id": "9b7369fc-332f-4f1c-b0f1-66aaf25a757d",
   "metadata": {},
   "outputs": [
    {
     "data": {
      "text/plain": [
       "(3, 8)"
      ]
     },
     "execution_count": 5,
     "metadata": {},
     "output_type": "execute_result"
    }
   ],
   "source": [
    "data[data.duplicated()].shape"
   ]
  },
  {
   "cell_type": "code",
   "execution_count": 6,
   "id": "8e7edee7-42fe-477a-963d-0f694c929291",
   "metadata": {},
   "outputs": [
    {
     "data": {
      "text/plain": [
       "(25, 8)"
      ]
     },
     "execution_count": 6,
     "metadata": {},
     "output_type": "execute_result"
    }
   ],
   "source": [
    "data.shape"
   ]
  },
  {
   "cell_type": "code",
   "execution_count": 7,
   "id": "45e5f3b9-a2af-48c2-af15-ae58851e67d8",
   "metadata": {},
   "outputs": [],
   "source": [
    "data = data.drop_duplicates()"
   ]
  },
  {
   "cell_type": "code",
   "execution_count": 8,
   "id": "9c6ae16c-43f8-4108-a7e2-44a7b9d0e26e",
   "metadata": {},
   "outputs": [
    {
     "data": {
      "text/plain": [
       "(22, 8)"
      ]
     },
     "execution_count": 8,
     "metadata": {},
     "output_type": "execute_result"
    }
   ],
   "source": [
    "data.shape"
   ]
  },
  {
   "cell_type": "markdown",
   "id": "6a4d0608-ff1c-4516-b1dc-e26a7b7bb2f7",
   "metadata": {},
   "source": [
    "## Outliers"
   ]
  },
  {
   "cell_type": "code",
   "execution_count": 9,
   "id": "9ba9b17a-b1af-41af-b84b-6f806ef3edb6",
   "metadata": {},
   "outputs": [
    {
     "data": {
      "image/png": "[encoded data removed]",
      "text/plain": [
       "<Figure size 640x480 with 1 Axes>"
      ]
     },
     "metadata": {},
     "output_type": "display_data"
    }
   ],
   "source": [
    "sns.boxplot(x=data['Quiz Score'])\n",
    "plt.show()"
   ]
  },
  {
   "cell_type": "code",
   "execution_count": 10,
   "id": "65f4157a-0829-4a6e-8b04-9922b636d6d2",
   "metadata": {},
   "outputs": [
    {
     "data": {
      "image/png": "[encoded data removed]",
      "text/plain": [
       "<Figure size 640x480 with 1 Axes>"
      ]
     },
     "metadata": {},
     "output_type": "display_data"
    }
   ],
   "source": [
    "sns.boxplot(x=data['Time Per Week'])\n",
    "plt.show()"
   ]
  },
  {
   "cell_type": "code",
   "execution_count": 11,
   "id": "c5a906aa-3f18-47ee-9c1b-a2d95e126043",
   "metadata": {},
   "outputs": [],
   "source": [
    "numeric_cols = data.select_dtypes(include='number').columns"
   ]
  },
  {
   "cell_type": "code",
   "execution_count": 12,
   "id": "717b5ade-e492-4c0d-a8e0-207d7415aee5",
   "metadata": {},
   "outputs": [],
   "source": [
    "q1 = data[numeric_cols].quantile(0.25)\n",
    "q3 = data[numeric_cols].quantile(0.75)\n",
    "iqr = q3 - q1"
   ]
  },
  {
   "cell_type": "code",
   "execution_count": 13,
   "id": "ce90c825-286d-4517-bb67-0d16edef889c",
   "metadata": {},
   "outputs": [],
   "source": [
    "condition = ~((data[numeric_cols] < (q1 - 1.5 * iqr)) | (data[numeric_cols] > (q3 + 1.5 * iqr))).any(axis=1)"
   ]
  },
  {
   "cell_type": "code",
   "execution_count": 14,
   "id": "adeb3317-776b-4eec-b96b-e1a778fbe122",
   "metadata": {},
   "outputs": [],
   "source": [
    "data = data[condition]"
   ]
  },
  {
   "cell_type": "code",
   "execution_count": 15,
   "id": "a5039a72-ce31-45aa-8ea8-6362aec54aa1",
   "metadata": {},
   "outputs": [
    {
     "data": {
      "image/png": "[encoded data removed]",
      "text/plain": [
       "<Figure size 640x480 with 1 Axes>"
      ]
     },
     "metadata": {},
     "output_type": "display_data"
    }
   ],
   "source": [
    "sns.boxplot(x=data['Quiz Score'])\n",
    "plt.show()"
   ]
  },
  {
   "cell_type": "markdown",
   "id": "55fc19b0-8624-4768-9cfd-1b8d1f07d620",
   "metadata": {},
   "source": [
    "## Missing values"
   ]
  },
  {
   "cell_type": "code",
   "execution_count": 16,
   "id": "f5d0f92f-a5f8-4a79-82e8-4edc947ae9b2",
   "metadata": {},
   "outputs": [],
   "source": [
    "missing_values_count = data.isnull().sum()"
   ]
  },
  {
   "cell_type": "code",
   "execution_count": 17,
   "id": "af0ca97d-4f11-44a6-8ff5-dca12a3382ec",
   "metadata": {},
   "outputs": [
    {
     "data": {
      "text/plain": [
       "StudentID            0\n",
       "Gender               0\n",
       "Age                  2\n",
       "Country              0\n",
       "Lessons Completed    0\n",
       "Quiz Score           2\n",
       "Time Per Week        0\n",
       "Result               0\n",
       "dtype: int64"
      ]
     },
     "execution_count": 17,
     "metadata": {},
     "output_type": "execute_result"
    }
   ],
   "source": [
    "missing_values_count[0:10]"
   ]
  },
  {
   "cell_type": "code",
   "execution_count": 18,
   "id": "78f50953-4809-460b-ad7b-96640601a644",
   "metadata": {},
   "outputs": [],
   "source": [
    "total_cells = np.prod(data.shape)\n",
    "total_missing = missing_values_count.sum()"
   ]
  },
  {
   "cell_type": "code",
   "execution_count": 19,
   "id": "e7689d43-5b3e-489f-bcfc-9fdf2f09271a",
   "metadata": {},
   "outputs": [
    {
     "name": "stdout",
     "output_type": "stream",
     "text": [
      "2.5\n"
     ]
    }
   ],
   "source": [
    "percent_missing = (total_missing/total_cells) * 100\n",
    "print(percent_missing)"
   ]
  },
  {
   "cell_type": "markdown",
   "id": "5c07d5f2-6350-41f6-913b-cc526c054360",
   "metadata": {},
   "source": [
    "## Drop missing values"
   ]
  },
  {
   "cell_type": "markdown",
   "id": "b36af46d-df6b-4267-8dfa-abb903bdda73",
   "metadata": {},
   "source": [
    "* This approach will drop all the rows that contains at-least one missing value.\n",
    "* The ***axis=1*** will determine the number of values to consider to drop a row."
   ]
  },
  {
   "cell_type": "code",
   "execution_count": 20,
   "id": "1167d3c6-3f57-4795-8dc4-5ce0f981665c",
   "metadata": {},
   "outputs": [],
   "source": [
    "data_dropped = data.dropna(axis=1)"
   ]
  },
  {
   "cell_type": "code",
   "execution_count": 21,
   "id": "d9578fe6-53c3-4455-bd48-c115045744f7",
   "metadata": {},
   "outputs": [
    {
     "data": {
      "text/html": [
       "<div>\n",
       "<style scoped>\n",
       "    .dataframe tbody tr th:only-of-type {\n",
       "        vertical-align: middle;\n",
       "    }\n",
       "\n",
       "    .dataframe tbody tr th {\n",
       "        vertical-align: top;\n",
       "    }\n",
       "\n",
       "    .dataframe thead th {\n",
       "        text-align: right;\n",
       "    }\n",
       "</style>\n",
       "<table border=\"1\" class=\"dataframe\">\n",
       "  <thead>\n",
       "    <tr style=\"text-align: right;\">\n",
       "      <th></th>\n",
       "      <th>StudentID</th>\n",
       "      <th>Gender</th>\n",
       "      <th>Country</th>\n",
       "      <th>Lessons Completed</th>\n",
       "      <th>Time Per Week</th>\n",
       "      <th>Result</th>\n",
       "    </tr>\n",
       "  </thead>\n",
       "  <tbody>\n",
       "    <tr>\n",
       "      <th>0</th>\n",
       "      <td>S001</td>\n",
       "      <td>Male</td>\n",
       "      <td>India</td>\n",
       "      <td>25</td>\n",
       "      <td>10</td>\n",
       "      <td>Pass</td>\n",
       "    </tr>\n",
       "    <tr>\n",
       "      <th>1</th>\n",
       "      <td>S002</td>\n",
       "      <td>Female</td>\n",
       "      <td>USA</td>\n",
       "      <td>30</td>\n",
       "      <td>12</td>\n",
       "      <td>Pass</td>\n",
       "    </tr>\n",
       "    <tr>\n",
       "      <th>2</th>\n",
       "      <td>S003</td>\n",
       "      <td>Male</td>\n",
       "      <td>Sri Lanka</td>\n",
       "      <td>18</td>\n",
       "      <td>8</td>\n",
       "      <td>Fail</td>\n",
       "    </tr>\n",
       "    <tr>\n",
       "      <th>3</th>\n",
       "      <td>S004</td>\n",
       "      <td>Female</td>\n",
       "      <td>India</td>\n",
       "      <td>28</td>\n",
       "      <td>9</td>\n",
       "      <td>Pass</td>\n",
       "    </tr>\n",
       "    <tr>\n",
       "      <th>4</th>\n",
       "      <td>S005</td>\n",
       "      <td>Female</td>\n",
       "      <td>USA</td>\n",
       "      <td>15</td>\n",
       "      <td>5</td>\n",
       "      <td>Fail</td>\n",
       "    </tr>\n",
       "  </tbody>\n",
       "</table>\n",
       "</div>"
      ],
      "text/plain": [
       "  StudentID  Gender    Country  Lessons Completed  Time Per Week Result\n",
       "0      S001    Male      India                 25             10   Pass\n",
       "1      S002  Female        USA                 30             12   Pass\n",
       "2      S003    Male  Sri Lanka                 18              8   Fail\n",
       "3      S004  Female      India                 28              9   Pass\n",
       "4      S005  Female        USA                 15              5   Fail"
      ]
     },
     "execution_count": 21,
     "metadata": {},
     "output_type": "execute_result"
    }
   ],
   "source": [
    "data_dropped.head()"
   ]
  },
  {
   "cell_type": "code",
   "execution_count": 22,
   "id": "6f9636ef-c600-4827-95f6-63c836e2c0f4",
   "metadata": {},
   "outputs": [
    {
     "data": {
      "text/plain": [
       "StudentID            0\n",
       "Gender               0\n",
       "Country              0\n",
       "Lessons Completed    0\n",
       "Time Per Week        0\n",
       "Result               0\n",
       "dtype: int64"
      ]
     },
     "execution_count": 22,
     "metadata": {},
     "output_type": "execute_result"
    }
   ],
   "source": [
    "new_missing_values_count = data_dropped.isnull().sum()\n",
    "new_missing_values_count[0:10]"
   ]
  },
  {
   "cell_type": "code",
   "execution_count": 23,
   "id": "bedcd728-a55d-44f9-b022-992c51e7202e",
   "metadata": {},
   "outputs": [
    {
     "data": {
      "text/plain": [
       "(20, 6)"
      ]
     },
     "execution_count": 23,
     "metadata": {},
     "output_type": "execute_result"
    }
   ],
   "source": [
    "data_dropped.shape"
   ]
  },
  {
   "cell_type": "markdown",
   "id": "118c6fa3-6696-4441-99fd-b63a3c177e9c",
   "metadata": {},
   "source": [
    "## Replacing missing values"
   ]
  },
  {
   "cell_type": "markdown",
   "id": "93d9601e-7247-43a6-bfa5-142ae19f57e1",
   "metadata": {},
   "source": [
    "* The ***fillna()*** in Pandas can be used to replace missing values with something else that we specify."
   ]
  },
  {
   "cell_type": "markdown",
   "id": "8895bba1-9dce-44ec-80c2-30e13ca36a9b",
   "metadata": {},
   "source": [
    "### Replace all the missing values with a common value"
   ]
  },
  {
   "cell_type": "markdown",
   "id": "057f82c3-8ea2-4916-8e94-bfc142acfe9e",
   "metadata": {},
   "source": [
    "* In here all the missing values will be replaced by ***0***."
   ]
  },
  {
   "cell_type": "code",
   "execution_count": 24,
   "id": "f64a3054-4e28-423d-af93-bf05ae0c0381",
   "metadata": {},
   "outputs": [],
   "source": [
    "repl_all_mis_data = data.fillna(0)"
   ]
  },
  {
   "cell_type": "code",
   "execution_count": 25,
   "id": "edd1cbac-4613-4e8e-9064-4461d95c4191",
   "metadata": {},
   "outputs": [
    {
     "data": {
      "text/html": [
       "<div>\n",
       "<style scoped>\n",
       "    .dataframe tbody tr th:only-of-type {\n",
       "        vertical-align: middle;\n",
       "    }\n",
       "\n",
       "    .dataframe tbody tr th {\n",
       "        vertical-align: top;\n",
       "    }\n",
       "\n",
       "    .dataframe thead th {\n",
       "        text-align: right;\n",
       "    }\n",
       "</style>\n",
       "<table border=\"1\" class=\"dataframe\">\n",
       "  <thead>\n",
       "    <tr style=\"text-align: right;\">\n",
       "      <th></th>\n",
       "      <th>StudentID</th>\n",
       "      <th>Gender</th>\n",
       "      <th>Age</th>\n",
       "      <th>Country</th>\n",
       "      <th>Lessons Completed</th>\n",
       "      <th>Quiz Score</th>\n",
       "      <th>Time Per Week</th>\n",
       "      <th>Result</th>\n",
       "    </tr>\n",
       "  </thead>\n",
       "  <tbody>\n",
       "    <tr>\n",
       "      <th>0</th>\n",
       "      <td>S001</td>\n",
       "      <td>Male</td>\n",
       "      <td>20.0</td>\n",
       "      <td>India</td>\n",
       "      <td>25</td>\n",
       "      <td>78.5</td>\n",
       "      <td>10</td>\n",
       "      <td>Pass</td>\n",
       "    </tr>\n",
       "    <tr>\n",
       "      <th>1</th>\n",
       "      <td>S002</td>\n",
       "      <td>Female</td>\n",
       "      <td>22.0</td>\n",
       "      <td>USA</td>\n",
       "      <td>30</td>\n",
       "      <td>82.0</td>\n",
       "      <td>12</td>\n",
       "      <td>Pass</td>\n",
       "    </tr>\n",
       "    <tr>\n",
       "      <th>2</th>\n",
       "      <td>S003</td>\n",
       "      <td>Male</td>\n",
       "      <td>19.0</td>\n",
       "      <td>Sri Lanka</td>\n",
       "      <td>18</td>\n",
       "      <td>45.0</td>\n",
       "      <td>8</td>\n",
       "      <td>Fail</td>\n",
       "    </tr>\n",
       "    <tr>\n",
       "      <th>3</th>\n",
       "      <td>S004</td>\n",
       "      <td>Female</td>\n",
       "      <td>21.0</td>\n",
       "      <td>India</td>\n",
       "      <td>28</td>\n",
       "      <td>88.0</td>\n",
       "      <td>9</td>\n",
       "      <td>Pass</td>\n",
       "    </tr>\n",
       "    <tr>\n",
       "      <th>4</th>\n",
       "      <td>S005</td>\n",
       "      <td>Female</td>\n",
       "      <td>18.0</td>\n",
       "      <td>USA</td>\n",
       "      <td>15</td>\n",
       "      <td>35.0</td>\n",
       "      <td>5</td>\n",
       "      <td>Fail</td>\n",
       "    </tr>\n",
       "  </tbody>\n",
       "</table>\n",
       "</div>"
      ],
      "text/plain": [
       "  StudentID  Gender   Age    Country  Lessons Completed  Quiz Score  \\\n",
       "0      S001    Male  20.0      India                 25        78.5   \n",
       "1      S002  Female  22.0        USA                 30        82.0   \n",
       "2      S003    Male  19.0  Sri Lanka                 18        45.0   \n",
       "3      S004  Female  21.0      India                 28        88.0   \n",
       "4      S005  Female  18.0        USA                 15        35.0   \n",
       "\n",
       "   Time Per Week Result  \n",
       "0             10   Pass  \n",
       "1             12   Pass  \n",
       "2              8   Fail  \n",
       "3              9   Pass  \n",
       "4              5   Fail  "
      ]
     },
     "execution_count": 25,
     "metadata": {},
     "output_type": "execute_result"
    }
   ],
   "source": [
    "repl_all_mis_data.head()"
   ]
  },
  {
   "cell_type": "code",
   "execution_count": 26,
   "id": "318b05c1-881b-49a8-b326-cf5f874cdc90",
   "metadata": {},
   "outputs": [
    {
     "data": {
      "text/plain": [
       "StudentID            0\n",
       "Gender               0\n",
       "Age                  0\n",
       "Country              0\n",
       "Lessons Completed    0\n",
       "Quiz Score           0\n",
       "Time Per Week        0\n",
       "Result               0\n",
       "dtype: int64"
      ]
     },
     "execution_count": 26,
     "metadata": {},
     "output_type": "execute_result"
    }
   ],
   "source": [
    "new_missing_values_count = repl_all_mis_data.isnull().sum()\n",
    "new_missing_values_count[0:10]"
   ]
  },
  {
   "cell_type": "markdown",
   "id": "dad9bb39-57e7-4bd2-914c-597a04fa41af",
   "metadata": {},
   "source": [
    "### Replace missing values with the value of the row directly below in the same column"
   ]
  },
  {
   "cell_type": "code",
   "execution_count": 27,
   "id": "d4f79b72-7366-4308-a51f-3a1e525ce9fd",
   "metadata": {},
   "outputs": [],
   "source": [
    "repl_bfill_data = data.bfill(axis=0).fillna(0)"
   ]
  },
  {
   "cell_type": "code",
   "execution_count": 28,
   "id": "07b583af-fb71-40bc-b043-b3a24e495643",
   "metadata": {
    "scrolled": true
   },
   "outputs": [
    {
     "data": {
      "text/plain": [
       "StudentID            0\n",
       "Gender               0\n",
       "Age                  0\n",
       "Country              0\n",
       "Lessons Completed    0\n",
       "Quiz Score           0\n",
       "Time Per Week        0\n",
       "Result               0\n",
       "dtype: int64"
      ]
     },
     "execution_count": 28,
     "metadata": {},
     "output_type": "execute_result"
    }
   ],
   "source": [
    "new_missing_values_count = repl_bfill_data.isnull().sum()\n",
    "new_missing_values_count[0:10]"
   ]
  },
  {
   "cell_type": "code",
   "execution_count": 29,
   "id": "a62cc0e8-4bf3-4e1d-ba12-099f15872d78",
   "metadata": {},
   "outputs": [
    {
     "data": {
      "text/html": [
       "<div>\n",
       "<style scoped>\n",
       "    .dataframe tbody tr th:only-of-type {\n",
       "        vertical-align: middle;\n",
       "    }\n",
       "\n",
       "    .dataframe tbody tr th {\n",
       "        vertical-align: top;\n",
       "    }\n",
       "\n",
       "    .dataframe thead th {\n",
       "        text-align: right;\n",
       "    }\n",
       "</style>\n",
       "<table border=\"1\" class=\"dataframe\">\n",
       "  <thead>\n",
       "    <tr style=\"text-align: right;\">\n",
       "      <th></th>\n",
       "      <th>StudentID</th>\n",
       "      <th>Gender</th>\n",
       "      <th>Age</th>\n",
       "      <th>Country</th>\n",
       "      <th>Lessons Completed</th>\n",
       "      <th>Quiz Score</th>\n",
       "      <th>Time Per Week</th>\n",
       "      <th>Result</th>\n",
       "    </tr>\n",
       "  </thead>\n",
       "  <tbody>\n",
       "    <tr>\n",
       "      <th>0</th>\n",
       "      <td>S001</td>\n",
       "      <td>Male</td>\n",
       "      <td>20.0</td>\n",
       "      <td>India</td>\n",
       "      <td>25</td>\n",
       "      <td>78.5</td>\n",
       "      <td>10</td>\n",
       "      <td>Pass</td>\n",
       "    </tr>\n",
       "    <tr>\n",
       "      <th>1</th>\n",
       "      <td>S002</td>\n",
       "      <td>Female</td>\n",
       "      <td>22.0</td>\n",
       "      <td>USA</td>\n",
       "      <td>30</td>\n",
       "      <td>82.0</td>\n",
       "      <td>12</td>\n",
       "      <td>Pass</td>\n",
       "    </tr>\n",
       "    <tr>\n",
       "      <th>2</th>\n",
       "      <td>S003</td>\n",
       "      <td>Male</td>\n",
       "      <td>19.0</td>\n",
       "      <td>Sri Lanka</td>\n",
       "      <td>18</td>\n",
       "      <td>45.0</td>\n",
       "      <td>8</td>\n",
       "      <td>Fail</td>\n",
       "    </tr>\n",
       "    <tr>\n",
       "      <th>3</th>\n",
       "      <td>S004</td>\n",
       "      <td>Female</td>\n",
       "      <td>21.0</td>\n",
       "      <td>India</td>\n",
       "      <td>28</td>\n",
       "      <td>88.0</td>\n",
       "      <td>9</td>\n",
       "      <td>Pass</td>\n",
       "    </tr>\n",
       "    <tr>\n",
       "      <th>4</th>\n",
       "      <td>S005</td>\n",
       "      <td>Female</td>\n",
       "      <td>18.0</td>\n",
       "      <td>USA</td>\n",
       "      <td>15</td>\n",
       "      <td>35.0</td>\n",
       "      <td>5</td>\n",
       "      <td>Fail</td>\n",
       "    </tr>\n",
       "  </tbody>\n",
       "</table>\n",
       "</div>"
      ],
      "text/plain": [
       "  StudentID  Gender   Age    Country  Lessons Completed  Quiz Score  \\\n",
       "0      S001    Male  20.0      India                 25        78.5   \n",
       "1      S002  Female  22.0        USA                 30        82.0   \n",
       "2      S003    Male  19.0  Sri Lanka                 18        45.0   \n",
       "3      S004  Female  21.0      India                 28        88.0   \n",
       "4      S005  Female  18.0        USA                 15        35.0   \n",
       "\n",
       "   Time Per Week Result  \n",
       "0             10   Pass  \n",
       "1             12   Pass  \n",
       "2              8   Fail  \n",
       "3              9   Pass  \n",
       "4              5   Fail  "
      ]
     },
     "execution_count": 29,
     "metadata": {},
     "output_type": "execute_result"
    }
   ],
   "source": [
    "repl_bfill_data.head()"
   ]
  },
  {
   "cell_type": "markdown",
   "id": "b484f7d6-4e1c-43b9-9ac5-287cbfbbf380",
   "metadata": {},
   "source": [
    "-----------"
   ]
  },
  {
   "cell_type": "code",
   "execution_count": 30,
   "id": "ac6c8466-ebb9-4255-b08e-8acb14167834",
   "metadata": {},
   "outputs": [],
   "source": [
    "data.to_csv(\"Data/cleaned_data.csv\", index=False)"
   ]
  },
  {
   "cell_type": "code",
   "execution_count": null,
   "id": "5c1a6c8e-40c6-41af-9ae1-dedcdde2415b",
   "metadata": {},
   "outputs": [],
   "source": []
  }
 ],
 "metadata": {
  "kernelspec": {
   "display_name": "Python 3 (ipykernel)",
   "language": "python",
   "name": "python3"
  },
  "language_info": {
   "codemirror_mode": {
    "name": "ipython",
    "version": 3
   },
   "file_extension": ".py",
   "mimetype": "text/x-python",
   "name": "python",
   "nbconvert_exporter": "python",
   "pygments_lexer": "ipython3",
   "version": "3.11.2"
  }
 },
 "nbformat": 4,
 "nbformat_minor": 5
}
